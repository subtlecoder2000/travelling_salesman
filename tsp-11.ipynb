{
 "cells": [
  {
   "cell_type": "code",
   "execution_count": 1,
   "metadata": {},
   "outputs": [],
   "source": [
    "import random\n",
    "import matplotlib.pyplot as plt\n",
    "plt.style.use('seaborn')\n",
    "import numpy as np\n",
    "import math"
   ]
  },
  {
   "cell_type": "code",
   "execution_count": 2,
   "metadata": {},
   "outputs": [
    {
     "name": "stdout",
     "output_type": "stream",
     "text": [
      "[(98, 70), (87, 14), (69, 12), (90, 66), (91, 93), (62, 26), (70, 4), (38, 46), (28, 54), (16, 70), (67, 49), (22, 88), (83, 0), (28, 93), (65, 55), (94, 29), (9, 16), (76, 85), (48, 95), (40, 16), (15, 85), (8, 26), (16, 72), (88, 22), (74, 27), (81, 20), (55, 64), (84, 81), (26, 15), (28, 42), (42, 58), (72, 52), (81, 83), (84, 51), (42, 39), (74, 87), (93, 99), (72, 70), (58, 66), (71, 57), (16, 99), (81, 8), (64, 83), (13, 49), (48, 86), (70, 51), (80, 76), (47, 23), (30, 10), (54, 36)]\n"
     ]
    }
   ],
   "source": [
    "gd = [(i,j) for i in range(101) for j in range(101)]\n",
    "n_grid = []\n",
    "while(len(n_grid)<50):\n",
    "    r = random.choice(gd)\n",
    "    if r not in n_grid:\n",
    "        n_grid.append(r)\n",
    "print(n_grid)"
   ]
  },
  {
   "cell_type": "code",
   "execution_count": 3,
   "metadata": {},
   "outputs": [
    {
     "data": {
      "image/png": "[encoded data removed]",
      "text/plain": [
       "<Figure size 576x396 with 1 Axes>"
      ]
     },
     "metadata": {},
     "output_type": "display_data"
    }
   ],
   "source": [
    "x = []\n",
    "y = []\n",
    "for i in range (50):\n",
    "    c = n_grid[i]\n",
    "    x.append(c[0])\n",
    "    y.append(c[1])\n",
    "\n",
    "plt.scatter(x, y)\n",
    "plt.show()"
   ]
  },
  {
   "cell_type": "code",
   "execution_count": 4,
   "metadata": {},
   "outputs": [],
   "source": [
    "def parent_gen(seed_n):  #no. of parents in gen1\n",
    "    seed = []\n",
    "    for i in range(50):\n",
    "        seed.append(i)\n",
    "    parent = []\n",
    "    for i in range(seed_n):\n",
    "        random.shuffle(seed)\n",
    "        if seed not in parent:\n",
    "            parent.append(seed[::])\n",
    "            \n",
    "    return parent"
   ]
  },
  {
   "cell_type": "markdown",
   "metadata": {},
   "source": [
    "fitness function"
   ]
  },
  {
   "cell_type": "code",
   "execution_count": 5,
   "metadata": {},
   "outputs": [],
   "source": [
    "def fitness(chromosome):\n",
    "    fitness = 0\n",
    "    for i in range(49):\n",
    "        a = chromosome[i]\n",
    "        b = chromosome[i + 1]\n",
    "        fitness += math.sqrt((x[a]-x[b])**2 + (y[a]-y[b])**2)\n",
    "    fitness += math.sqrt((x[b]-x[0])**2 + (y[b]-y[0])**2)\n",
    "    return fitness"
   ]
  },
  {
   "cell_type": "markdown",
   "metadata": {},
   "source": [
    "manhattan fitness"
   ]
  },
  {
   "cell_type": "code",
   "execution_count": 6,
   "metadata": {},
   "outputs": [],
   "source": [
    "def manhattan_fitness(chromosome):\n",
    "    fitness = 0\n",
    "    for i in range (49):\n",
    "        a = chromosome[i]\n",
    "        b = chromosome[i + 1]\n",
    "        fitness += abs(x[a]-x[b]) + abs(y[a]-y[b])\n",
    "    return fitness"
   ]
  },
  {
   "cell_type": "markdown",
   "metadata": {},
   "source": [
    "1 point crossover function"
   ]
  },
  {
   "cell_type": "code",
   "execution_count": 7,
   "metadata": {},
   "outputs": [],
   "source": [
    "def crossover(chr1, chr2):\n",
    "    r = random.randint(0, 49)\n",
    "    c1 = chr1[:r] #child\n",
    "    c2 = chr2[r:]\n",
    "    for i in range(50):\n",
    "        if chr2[i] not in c1:\n",
    "            c1.append(chr2[i])\n",
    "        if chr1[i] not in c2:\n",
    "            c2.append(chr1[i])\n",
    "    return c1, c2"
   ]
  },
  {
   "cell_type": "markdown",
   "metadata": {},
   "source": [
    "mutation"
   ]
  },
  {
   "cell_type": "code",
   "execution_count": 8,
   "metadata": {},
   "outputs": [],
   "source": [
    "def mutation(chr1):\n",
    "    gen_rand = list(range(35))\n",
    "    r = int(random.choice(gen_rand))\n",
    "    mutated_ele = chr1.pop(r)\n",
    "    chr1.append(mutated_ele)\n",
    "    return chr1"
   ]
  },
  {
   "cell_type": "markdown",
   "metadata": {},
   "source": [
    "reproduction by using euclidian fitness"
   ]
  },
  {
   "cell_type": "code",
   "execution_count": 9,
   "metadata": {},
   "outputs": [],
   "source": [
    "seed = parent_gen(11)\n",
    "pop = seed\n",
    "n_gen = 50\n",
    "avg_fitness = []\n",
    "best_fitness = []\n",
    "for j in range(n_gen):\n",
    "    for i in range(11):\n",
    "        rnd_gen_01 = random.randint(0, len(pop) - 1)\n",
    "        rnd_gen_02 = random.randint(0, len(pop) - 1)\n",
    "        child = crossover(pop[rnd_gen_01], pop[rnd_gen_02])\n",
    "        pop.extend(child)\n",
    "    #key = lambda x:fitness(x)\n",
    "    pop.sort(key = lambda x:fitness(x))\n",
    "    avgfit = sum(list(map(fitness, pop)))/len(pop)\n",
    "    avg_fitness.append(avgfit)\n",
    "    \n",
    "    #Elimination\n",
    "    pop.sort(key = lambda x:fitness(x))\n",
    "    best_fitness.append(fitness(pop[0]))\n",
    "    rnd_gen_03 = random.randint(7, 11)\n",
    "    pop = pop[:len(pop) - (rnd_gen_03)]"
   ]
  },
  {
   "cell_type": "markdown",
   "metadata": {},
   "source": [
    "results from euclidian fitness"
   ]
  },
  {
   "cell_type": "code",
   "execution_count": 10,
   "metadata": {},
   "outputs": [
    {
     "name": "stdout",
     "output_type": "stream",
     "text": [
      "667\n",
      "[0, 14, 10, 36, 3, 26, 28, 24, 33, 46, 49, 48, 2, 40, 9, 20, 11, 30, 27, 37, 16, 34, 8, 31, 17, 4, 15, 35, 47, 38, 41, 23, 1, 6, 29, 25, 5, 45, 12, 43, 44, 18, 22, 19, 21, 39, 7, 13, 42, 32]\n",
      "2004.7270725915716 2367.657223964886\n"
     ]
    }
   ],
   "source": [
    "print(len(pop))\n",
    "print(pop[0])\n",
    "print(fitness(pop[0]), fitness(pop[-1]))\n",
    "fc = pop[0]"
   ]
  },
  {
   "cell_type": "markdown",
   "metadata": {},
   "source": [
    "reproduction by using manhattan distance"
   ]
  },
  {
   "cell_type": "code",
   "execution_count": 11,
   "metadata": {},
   "outputs": [],
   "source": [
    "seed = parent_gen(10)\n",
    "pop = seed[::]\n",
    "n_gen = 500\n",
    "for j in range(n_gen):\n",
    "    for i in range(11):\n",
    "        rnd_gen_01 = random.randint(0, len(pop) - 1)\n",
    "        rnd_gen_02 = random.randint(0, len(pop) - 1)\n",
    "        child = crossover(pop[rnd_gen_01], pop[rnd_gen_02])\n",
    "        pop.extend(child)\n",
    "    #elimination\n",
    "    #key = lambda x:manhattan_fitness(x)\n",
    "    pop.sort(key = lambda x:manhattan_fitness(x))\n",
    "    rnd_gen_03 = random.randint(7, 11)\n",
    "    pop = pop[:len(pop) - (rnd_gen_03)]"
   ]
  },
  {
   "cell_type": "markdown",
   "metadata": {},
   "source": [
    "results from manhattan fitness"
   ]
  },
  {
   "cell_type": "code",
   "execution_count": 12,
   "metadata": {},
   "outputs": [
    {
     "name": "stdout",
     "output_type": "stream",
     "text": [
      "6533\n",
      "[14, 46, 39, 19, 36, 17, 35, 18, 42, 28, 30, 34, 49, 8, 9, 20, 21, 16, 5, 25, 37, 27, 4, 13, 22, 11, 6, 23, 12, 41, 7, 47, 0, 3, 26, 31, 33, 43, 48, 29, 1, 2, 38, 45, 24, 15, 10, 40, 44, 32]\n",
      "2188 2922\n"
     ]
    }
   ],
   "source": [
    "print(len(pop))\n",
    "print(pop[0])\n",
    "print(manhattan_fitness(pop[0]), manhattan_fitness(pop[-1]))\n",
    "fc = pop[0]"
   ]
  },
  {
   "cell_type": "markdown",
   "metadata": {},
   "source": [
    "average of fitness vs. generation"
   ]
  },
  {
   "cell_type": "code",
   "execution_count": 13,
   "metadata": {},
   "outputs": [
    {
     "data": {
      "image/png": "[encoded data removed]",
      "text/plain": [
       "<Figure size 864x576 with 1 Axes>"
      ]
     },
     "metadata": {},
     "output_type": "display_data"
    }
   ],
   "source": [
    "fig, ax = plt.subplots(figsize = (12, 8))\n",
    "\n",
    "#define X and Y axes\n",
    "ax.plot(list(range(50)), avg_fitness)\n",
    "\n",
    "#set plot title and axes labels\n",
    "ax.set(title = \"Fitness avg vs. Generation\",\n",
    "       xlabel = \"Generation\",\n",
    "       ylabel = \"Fitness avg\")\n",
    "plt.show()"
   ]
  },
  {
   "cell_type": "markdown",
   "metadata": {},
   "source": [
    "best fitness vs generation"
   ]
  },
  {
   "cell_type": "code",
   "execution_count": 14,
   "metadata": {},
   "outputs": [
    {
     "data": {
      "image/png": "[encoded data removed]",
      "text/plain": [
       "<Figure size 864x576 with 1 Axes>"
      ]
     },
     "metadata": {},
     "output_type": "display_data"
    }
   ],
   "source": [
    "fig, ax = plt.subplots(figsize = (12, 8))\n",
    "\n",
    "ax.plot(list(range(50)), best_fitness)\n",
    "\n",
    "#set plot title and axes labels\n",
    "ax.set(title = \"Fitness vs. Generation\",\n",
    "       xlabel = \"Generation\",\n",
    "       ylabel = \"Fitness \")\n",
    "plt.show()"
   ]
  },
  {
   "cell_type": "markdown",
   "metadata": {},
   "source": [
    "printing final path"
   ]
  },
  {
   "cell_type": "code",
   "execution_count": 15,
   "metadata": {},
   "outputs": [
    {
     "name": "stdout",
     "output_type": "stream",
     "text": [
      "[14, 46, 39, 19, 36, 17, 35, 18, 42, 28, 30, 34, 49, 8, 9, 20, 21, 16, 5, 25, 37, 27, 4, 13, 22, 11, 6, 23, 12, 41, 7, 47, 0, 3, 26, 31, 33, 43, 48, 29, 1, 2, 38, 45, 24, 15, 10, 40, 44, 32]\n"
     ]
    },
    {
     "data": {
      "text/plain": [
       "<Figure size 648x648 with 0 Axes>"
      ]
     },
     "execution_count": 15,
     "metadata": {},
     "output_type": "execute_result"
    },
    {
     "data": {
      "image/png": "[encoded data removed]",
      "text/plain": [
       "<Figure size 576x396 with 1 Axes>"
      ]
     },
     "metadata": {},
     "output_type": "display_data"
    },
    {
     "data": {
      "text/plain": [
       "<Figure size 648x648 with 0 Axes>"
      ]
     },
     "metadata": {},
     "output_type": "display_data"
    }
   ],
   "source": [
    "print(fc)\n",
    "for i in range (49):\n",
    "    x1 = x[fc[i]]\n",
    "    y1 = y[fc[i]]\n",
    "    x2 = x[fc[i + 1]]\n",
    "    y2 = y[fc[i + 1]]\n",
    "    if(i == 0):\n",
    "        plt.arrow(x1,y1,x2-x1,y2-y1,width=0.05,head_width=2,ec='green')\n",
    "    else:\n",
    "        plt.arrow(x1,y1,x2-x1,y2-y1,width=0.05,head_width=2) \n",
    "plt.figure(figsize = (9, 9))"
   ]
  },
  {
   "cell_type": "markdown",
   "metadata": {},
   "source": [
    "# Is there any other way you can take the chromosome other than permutation encoding?\n",
    "\n",
    "Yes, Binary, Value amd List Encodings\n",
    "But Permutation Encoding is preferred as it is only really useful for problems dealing with ordering."
   ]
  },
  {
   "cell_type": "markdown",
   "metadata": {},
   "source": [
    "# If you change the number of populatoin in a generation, how the convergence is affected?\n",
    "\n",
    "- Increasing the population\n",
    "The convergence graph gets smoother with the increase in population.\n",
    "The raye of convergence increases, ie, the graph value decreases extensively in the beginning, which decreases by smaller values steadily, towards the end.\n",
    "Increasing the population caused the graph to be more convex downward.\n",
    "Increasing the number of generations caused the cure to be smoother.\n",
    "\n",
    "- Decreasing the population\n",
    "On the other hand, decreasing the population caused the graph to be irregular. Increasing the number of generations didnt affect the irregularity of the graph that much."
   ]
  }
 ],
 "metadata": {
  "kernelspec": {
   "display_name": "Python 3",
   "language": "python",
   "name": "python3"
  },
  "language_info": {
   "codemirror_mode": {
    "name": "ipython",
    "version": 3
   },
   "file_extension": ".py",
   "mimetype": "text/x-python",
   "name": "python",
   "nbconvert_exporter": "python",
   "pygments_lexer": "ipython3",
   "version": "3.8.3"
  }
 },
 "nbformat": 4,
 "nbformat_minor": 4
}
